import tensorflow as tf
from tensorflow.keras import layers, models

# Charger le jeu de données MNIST
(train_images, train_labels), (test_images, test_labels) = tf.keras.datasets.mnist.load_data()

# Prétraitement des données
train_images = train_images.reshape((60000, 28, 28, 1)).astype('float32') / 255
test_images = test_images.reshape((10000, 28, 28, 1)).astype('float32') / 255

# Création du modèle CNN avec Keras
model = models.Sequential()

# Couche de convolution 1
model.add(layers.Conv2D(32, (3, 3), activation='relu', input_shape=(28, 28, 1)))
model.add(layers.MaxPooling2D((2, 2)))

# Couche de convolution 2
model.add(layers.Conv2D(64, (3, 3), activation='relu'))
model.add(layers.MaxPooling2D((2, 2)))

# Couche de convolution 3
model.add(layers.Conv2D(64, (3, 3), activation='relu'))

# Applatissement des données pour les couches entièrement connectées
model.add(layers.Flatten())

# Couche entièrement connectée 1
model.add(layers.Dense(64, activation='relu'))

# Couche de sortie
model.add(layers.Dense(10, activation='softmax'))

# Compiler le modèle
model.compile(optimizer='adam',
              loss='sparse_categorical_crossentropy',
              metrics=['accuracy'])

# Entraîner le modèle
model.fit(train_images, train_labels, epochs=5, validation_data=(test_images, test_labels))
